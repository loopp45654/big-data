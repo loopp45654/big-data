{
  "nbformat": 4,
  "nbformat_minor": 0,
  "metadata": {
    "colab": {
      "name": "1008json.ipynb",
      "provenance": [],
      "collapsed_sections": [],
      "include_colab_link": true
    },
    "kernelspec": {
      "name": "ir",
      "display_name": "R"
    }
  },
  "cells": [
    {
      "cell_type": "markdown",
      "metadata": {
        "id": "view-in-github",
        "colab_type": "text"
      },
      "source": [
        "<a href=\"https://colab.research.google.com/github/loopp45654/big-data/blob/master/1008json.ipynb\" target=\"_parent\"><img src=\"https://colab.research.google.com/assets/colab-badge.svg\" alt=\"Open In Colab\"/></a>"
      ]
    },
    {
      "cell_type": "code",
      "metadata": {
        "id": "-VAgolQsXYRU",
        "outputId": "6a7de5e0-d09b-4de1-cb4b-aa67e67532a3",
        "colab": {
          "base_uri": "https://localhost:8080/",
          "height": 68
        }
      },
      "source": [
        "install.packages(\"jsonlite\")"
      ],
      "execution_count": 2,
      "outputs": [
        {
          "output_type": "stream",
          "text": [
            "Installing package into ‘/usr/local/lib/R/site-library’\n",
            "(as ‘lib’ is unspecified)\n",
            "\n"
          ],
          "name": "stderr"
        }
      ]
    },
    {
      "cell_type": "code",
      "metadata": {
        "id": "XcfZOu_Vg4HG"
      },
      "source": [
        "library(\"jsonlite\")"
      ],
      "execution_count": 4,
      "outputs": []
    },
    {
      "cell_type": "code",
      "metadata": {
        "id": "tLM8xLD7g4Jl"
      },
      "source": [
        "PetData<-jsonlite::fromJSON(\"https://data.taipei/opendata/datalist/apiAccess?scope=resourceAquire&rid=f4a75ba9-7721-4363-884d-c3820b0b917c\")"
      ],
      "execution_count": 5,
      "outputs": []
    },
    {
      "cell_type": "code",
      "metadata": {
        "id": "fyjy5RrFhOLB",
        "outputId": "c535336f-76b2-4010-caab-cc79d4ee0ab7",
        "colab": {
          "base_uri": "https://localhost:8080/",
          "height": 496
        }
      },
      "source": [
        "str(PetData)"
      ],
      "execution_count": 6,
      "outputs": [
        {
          "output_type": "stream",
          "text": [
            "List of 1\n",
            " $ result:List of 5\n",
            "  ..$ limit  : int 1000\n",
            "  ..$ offset : int 0\n",
            "  ..$ count  : int 365\n",
            "  ..$ sort   : chr \"\"\n",
            "  ..$ results:'data.frame':\t365 obs. of  20 variables:\n",
            "  .. ..$ AcceptNum      : chr [1:365] \"106060601\" \"106060401\" \"106060210\" \"106060207\" ...\n",
            "  .. ..$ IsSterilization: chr [1:365] \"未絕育\" \"已絕育\" \"未絕育\" \"未絕育\" ...\n",
            "  .. ..$ Name           : chr [1:365] \"\" \"\" \"俊俊\" \"小莊\" ...\n",
            "  .. ..$ Variety        : chr [1:365] \"米克斯\" \"米克斯\" \"米克斯\" \"米克斯\" ...\n",
            "  .. ..$ Age            : chr [1:365] \"成年\" \"成年\" \"成年\" \"成年\" ...\n",
            "  .. ..$ ChildreAnlong  : chr [1:365] \"\" \"\" \"\" \"\" ...\n",
            "  .. ..$ Resettlement   : chr [1:365] \"臺北市動物之家 收容編號106060601\" \"\" \"臺北市動物之家 收容編號106060210\" \"臺北市動物之家 收容編號106060207\" ...\n",
            "  .. ..$ Sex            : chr [1:365] \"雄\" \"雌\" \"雄\" \"雄\" ...\n",
            "  .. ..$ Note           : chr [1:365] \"左剪耳 輕微脫水 精神食慾不佳\" \"\" \"嗨~~我的名字叫俊俊，希望帥氣的我可以受您的青睞，快來動物之家看看我吧!\\n\" \"哈囉~我的名字叫小莊，目前我在動物之家生活，希望能快快找到，願意認養我的人來帶我回家!!\\n\" ...\n",
            "  .. ..$ Phone          : chr [1:365] \"02-87913063\" \"\" \"02-87913062\" \"02-87913062\" ...\n",
            "  .. ..$ Reason         : chr [1:365] \"民眾不擬續養\" \"民眾不擬續養\" \"動物管制\" \"動物管制\" ...\n",
            "  .. ..$ ImageName      : chr [1:365] \"http://163.29.39.183/uploads/images/medium/c0f66294-143c-4406-8714-2e6764352b13.jpg\" \"http://163.29.39.183/uploads/images/medium/4ffa231f-3108-43c1-8ccf-b8578bdf1e1a.jpg\" \"http://163.29.39.183/uploads/images/medium/e68771df-747e-4544-846a-bdd6099e7f90.jpg\" \"http://163.29.39.183/uploads/images/medium/fd75d049-5310-4016-b1f4-71d69c4a9912.jpg\" ...\n",
            "  .. ..$ HairType       : chr [1:365] \"虎斑白\" \"黃白\" \"黃白\" \"黃\" ...\n",
            "  .. ..$ Build          : chr [1:365] \"中\" \"中\" \"中\" \"中\" ...\n",
            "  .. ..$ AnimalAnlong   : chr [1:365] \"\" \"\" \"\" \"\" ...\n",
            "  .. ..$ ChipNum        : chr [1:365] \"900073000086900\" \"900073000086481\" \"\" \"\" ...\n",
            "  .. ..$ _id            : int [1:365] 1 2 3 4 5 6 7 8 9 10 ...\n",
            "  .. ..$ Type           : chr [1:365] \"貓\" \"貓\" \"貓\" \"貓\" ...\n",
            "  .. ..$ Email          : chr [1:365] \"tcapoa8@mail.taipei.gov.tw\" \"\" \"tcapoa8@mail.taipei.gov.tw\" \"tcapoa8@mail.taipei.gov.tw\" ...\n",
            "  .. ..$ Bodyweight     : chr [1:365] \"\" \"\" \"\" \"\" ...\n"
          ],
          "name": "stdout"
        }
      ]
    },
    {
      "cell_type": "code",
      "metadata": {
        "id": "4qaxy4wlhYm3",
        "outputId": "c18b9bf7-68d7-4e94-8917-4379419e5715",
        "colab": {
          "base_uri": "https://localhost:8080/",
          "height": 714
        }
      },
      "source": [
        "head(PetData$result$results)"
      ],
      "execution_count": 7,
      "outputs": [
        {
          "output_type": "display_data",
          "data": {
            "text/plain": [
              "  AcceptNum IsSterilization Name Variety Age  ChildreAnlong\n",
              "1 106060601 未絕育               米克斯  成年              \n",
              "2 106060401 已絕育               米克斯  成年              \n",
              "3 106060210 未絕育          俊俊 米克斯  成年              \n",
              "4 106060207 未絕育          小莊 米克斯  成年              \n",
              "5 106060203 未絕育          好橙 米克斯  成年              \n",
              "6 106053107 未絕育          歐雅 米克斯  年輕              \n",
              "  Resettlement                     Sex\n",
              "1 臺北市動物之家 收容編號106060601 雄 \n",
              "2                                  雌 \n",
              "3 臺北市動物之家 收容編號106060210 雄 \n",
              "4 臺北市動物之家 收容編號106060207 雄 \n",
              "5 臺北市動物之家 收容編號106060203 雄 \n",
              "6 臺北市動物之家 收容編號106053107 雌 \n",
              "  Note                                                                                   \n",
              "1 左剪耳 輕微脫水 精神食慾不佳                                                           \n",
              "2                                                                                        \n",
              "3 嗨~~我的名字叫俊俊，希望帥氣的我可以受您的青睞，快來動物之家看看我吧!\\n                \n",
              "4 哈囉~我的名字叫小莊，目前我在動物之家生活，希望能快快找到，願意認養我的人來帶我回家!!\\n\n",
              "5 嗨~我的名字叫好橙，害羞的我想要一個溫暖的家，您可以給我這個機會嗎?\\n                   \n",
              "6 大家好~我的名字叫歐雅，我的個性緊張，想帶我回家，要有耐心陪伴我渡過適應期唷!           \n",
              "  Phone       Reason      \n",
              "1 02-87913063 民眾不擬續養\n",
              "2             民眾不擬續養\n",
              "3 02-87913062 動物管制    \n",
              "4 02-87913062 動物管制    \n",
              "5 02-87913062 動物管制    \n",
              "6 02-87913062 動物管制    \n",
              "  ImageName                                                                          \n",
              "1 http://163.29.39.183/uploads/images/medium/c0f66294-143c-4406-8714-2e6764352b13.jpg\n",
              "2 http://163.29.39.183/uploads/images/medium/4ffa231f-3108-43c1-8ccf-b8578bdf1e1a.jpg\n",
              "3 http://163.29.39.183/uploads/images/medium/e68771df-747e-4544-846a-bdd6099e7f90.jpg\n",
              "4 http://163.29.39.183/uploads/images/medium/fd75d049-5310-4016-b1f4-71d69c4a9912.jpg\n",
              "5 http://163.29.39.183/uploads/images/medium/2f750fef-b696-4595-8fbf-cc6adf8f72d5.jpg\n",
              "6 http://163.29.39.183/uploads/images/medium/1c293e5e-99db-466e-a156-ff33fef368b4.jpg\n",
              "  HairType Build AnimalAnlong ChipNum         _id Type\n",
              "1 虎斑白   中                 900073000086900 1   貓  \n",
              "2 黃白     中                 900073000086481 2   貓  \n",
              "3 黃白     中                                 3   貓  \n",
              "4 黃       中                                 4   貓  \n",
              "5 黃       中                                 5   貓  \n",
              "6 黑       中                                 6   貓  \n",
              "  Email                      Bodyweight\n",
              "1 tcapoa8@mail.taipei.gov.tw           \n",
              "2                                      \n",
              "3 tcapoa8@mail.taipei.gov.tw           \n",
              "4 tcapoa8@mail.taipei.gov.tw           \n",
              "5 tcapoa8@mail.taipei.gov.tw           \n",
              "6 tcapoa8@mail.taipei.gov.tw           "
            ],
            "text/latex": "A data.frame: 6 × 20\n\\begin{tabular}{r|llllllllllllllllllll}\n  & AcceptNum & IsSterilization & Name & Variety & Age & ChildreAnlong & Resettlement & Sex & Note & Phone & Reason & ImageName & HairType & Build & AnimalAnlong & ChipNum & \\_id & Type & Email & Bodyweight\\\\\n  & <chr> & <chr> & <chr> & <chr> & <chr> & <chr> & <chr> & <chr> & <chr> & <chr> & <chr> & <chr> & <chr> & <chr> & <chr> & <chr> & <int> & <chr> & <chr> & <chr>\\\\\n\\hline\n\t1 & 106060601 & 未絕育 &      & 米克斯 & 成年 &  & 臺北市動物之家 收容編號106060601 & 雄 & 左剪耳 輕微脫水 精神食慾不佳                                                            & 02-87913063 & 民眾不擬續養 & http://163.29.39.183/uploads/images/medium/c0f66294-143c-4406-8714-2e6764352b13.jpg & 虎斑白 & 中 &  & 900073000086900 & 1 & 貓 & tcapoa8@mail.taipei.gov.tw & \\\\\n\t2 & 106060401 & 已絕育 &      & 米克斯 & 成年 &  &                                  & 雌 &                                                                                         &             & 民眾不擬續養 & http://163.29.39.183/uploads/images/medium/4ffa231f-3108-43c1-8ccf-b8578bdf1e1a.jpg & 黃白   & 中 &  & 900073000086481 & 2 & 貓 &                            & \\\\\n\t3 & 106060210 & 未絕育 & 俊俊 & 米克斯 & 成年 &  & 臺北市動物之家 收容編號106060210 & 雄 & 嗨\\textasciitilde{}\\textasciitilde{}我的名字叫俊俊，希望帥氣的我可以受您的青睞，快來動物之家看看我吧!\n                 & 02-87913062 & 動物管制     & http://163.29.39.183/uploads/images/medium/e68771df-747e-4544-846a-bdd6099e7f90.jpg & 黃白   & 中 &  &                 & 3 & 貓 & tcapoa8@mail.taipei.gov.tw & \\\\\n\t4 & 106060207 & 未絕育 & 小莊 & 米克斯 & 成年 &  & 臺北市動物之家 收容編號106060207 & 雄 & 哈囉\\textasciitilde{}我的名字叫小莊，目前我在動物之家生活，希望能快快找到，願意認養我的人來帶我回家!!\n & 02-87913062 & 動物管制     & http://163.29.39.183/uploads/images/medium/fd75d049-5310-4016-b1f4-71d69c4a9912.jpg & 黃     & 中 &  &                 & 4 & 貓 & tcapoa8@mail.taipei.gov.tw & \\\\\n\t5 & 106060203 & 未絕育 & 好橙 & 米克斯 & 成年 &  & 臺北市動物之家 收容編號106060203 & 雄 & 嗨\\textasciitilde{}我的名字叫好橙，害羞的我想要一個溫暖的家，您可以給我這個機會嗎?\n                    & 02-87913062 & 動物管制     & http://163.29.39.183/uploads/images/medium/2f750fef-b696-4595-8fbf-cc6adf8f72d5.jpg & 黃     & 中 &  &                 & 5 & 貓 & tcapoa8@mail.taipei.gov.tw & \\\\\n\t6 & 106053107 & 未絕育 & 歐雅 & 米克斯 & 年輕 &  & 臺北市動物之家 收容編號106053107 & 雌 & 大家好\\textasciitilde{}我的名字叫歐雅，我的個性緊張，想帶我回家，要有耐心陪伴我渡過適應期唷!            & 02-87913062 & 動物管制     & http://163.29.39.183/uploads/images/medium/1c293e5e-99db-466e-a156-ff33fef368b4.jpg & 黑     & 中 &  &                 & 6 & 貓 & tcapoa8@mail.taipei.gov.tw & \\\\\n\\end{tabular}\n",
            "text/markdown": "\nA data.frame: 6 × 20\n\n| <!--/--> | AcceptNum &lt;chr&gt; | IsSterilization &lt;chr&gt; | Name &lt;chr&gt; | Variety &lt;chr&gt; | Age &lt;chr&gt; | ChildreAnlong &lt;chr&gt; | Resettlement &lt;chr&gt; | Sex &lt;chr&gt; | Note &lt;chr&gt; | Phone &lt;chr&gt; | Reason &lt;chr&gt; | ImageName &lt;chr&gt; | HairType &lt;chr&gt; | Build &lt;chr&gt; | AnimalAnlong &lt;chr&gt; | ChipNum &lt;chr&gt; | _id &lt;int&gt; | Type &lt;chr&gt; | Email &lt;chr&gt; | Bodyweight &lt;chr&gt; |\n|---|---|---|---|---|---|---|---|---|---|---|---|---|---|---|---|---|---|---|---|---|\n| 1 | 106060601 | 未絕育 | <!----> | 米克斯 | 成年 | <!----> | 臺北市動物之家 收容編號106060601 | 雄 | 左剪耳 輕微脫水 精神食慾不佳                                                            | 02-87913063 | 民眾不擬續養 | http://163.29.39.183/uploads/images/medium/c0f66294-143c-4406-8714-2e6764352b13.jpg | 虎斑白 | 中 | <!----> | 900073000086900 | 1 | 貓 | tcapoa8@mail.taipei.gov.tw | <!----> |\n| 2 | 106060401 | 已絕育 | <!----> | 米克斯 | 成年 | <!----> | <!----> | 雌 | <!----> | <!----> | 民眾不擬續養 | http://163.29.39.183/uploads/images/medium/4ffa231f-3108-43c1-8ccf-b8578bdf1e1a.jpg | 黃白   | 中 | <!----> | 900073000086481 | 2 | 貓 | <!----> | <!----> |\n| 3 | 106060210 | 未絕育 | 俊俊 | 米克斯 | 成年 | <!----> | 臺北市動物之家 收容編號106060210 | 雄 | 嗨~~我的名字叫俊俊，希望帥氣的我可以受您的青睞，快來動物之家看看我吧!\n                 | 02-87913062 | 動物管制     | http://163.29.39.183/uploads/images/medium/e68771df-747e-4544-846a-bdd6099e7f90.jpg | 黃白   | 中 | <!----> | <!----> | 3 | 貓 | tcapoa8@mail.taipei.gov.tw | <!----> |\n| 4 | 106060207 | 未絕育 | 小莊 | 米克斯 | 成年 | <!----> | 臺北市動物之家 收容編號106060207 | 雄 | 哈囉~我的名字叫小莊，目前我在動物之家生活，希望能快快找到，願意認養我的人來帶我回家!!\n | 02-87913062 | 動物管制     | http://163.29.39.183/uploads/images/medium/fd75d049-5310-4016-b1f4-71d69c4a9912.jpg | 黃     | 中 | <!----> | <!----> | 4 | 貓 | tcapoa8@mail.taipei.gov.tw | <!----> |\n| 5 | 106060203 | 未絕育 | 好橙 | 米克斯 | 成年 | <!----> | 臺北市動物之家 收容編號106060203 | 雄 | 嗨~我的名字叫好橙，害羞的我想要一個溫暖的家，您可以給我這個機會嗎?\n                    | 02-87913062 | 動物管制     | http://163.29.39.183/uploads/images/medium/2f750fef-b696-4595-8fbf-cc6adf8f72d5.jpg | 黃     | 中 | <!----> | <!----> | 5 | 貓 | tcapoa8@mail.taipei.gov.tw | <!----> |\n| 6 | 106053107 | 未絕育 | 歐雅 | 米克斯 | 年輕 | <!----> | 臺北市動物之家 收容編號106053107 | 雌 | 大家好~我的名字叫歐雅，我的個性緊張，想帶我回家，要有耐心陪伴我渡過適應期唷!            | 02-87913062 | 動物管制     | http://163.29.39.183/uploads/images/medium/1c293e5e-99db-466e-a156-ff33fef368b4.jpg | 黑     | 中 | <!----> | <!----> | 6 | 貓 | tcapoa8@mail.taipei.gov.tw | <!----> |\n\n",
            "text/html": [
              "<table>\n",
              "<caption>A data.frame: 6 × 20</caption>\n",
              "<thead>\n",
              "\t<tr><th></th><th scope=col>AcceptNum</th><th scope=col>IsSterilization</th><th scope=col>Name</th><th scope=col>Variety</th><th scope=col>Age</th><th scope=col>ChildreAnlong</th><th scope=col>Resettlement</th><th scope=col>Sex</th><th scope=col>Note</th><th scope=col>Phone</th><th scope=col>Reason</th><th scope=col>ImageName</th><th scope=col>HairType</th><th scope=col>Build</th><th scope=col>AnimalAnlong</th><th scope=col>ChipNum</th><th scope=col>_id</th><th scope=col>Type</th><th scope=col>Email</th><th scope=col>Bodyweight</th></tr>\n",
              "\t<tr><th></th><th scope=col>&lt;chr&gt;</th><th scope=col>&lt;chr&gt;</th><th scope=col>&lt;chr&gt;</th><th scope=col>&lt;chr&gt;</th><th scope=col>&lt;chr&gt;</th><th scope=col>&lt;chr&gt;</th><th scope=col>&lt;chr&gt;</th><th scope=col>&lt;chr&gt;</th><th scope=col>&lt;chr&gt;</th><th scope=col>&lt;chr&gt;</th><th scope=col>&lt;chr&gt;</th><th scope=col>&lt;chr&gt;</th><th scope=col>&lt;chr&gt;</th><th scope=col>&lt;chr&gt;</th><th scope=col>&lt;chr&gt;</th><th scope=col>&lt;chr&gt;</th><th scope=col>&lt;int&gt;</th><th scope=col>&lt;chr&gt;</th><th scope=col>&lt;chr&gt;</th><th scope=col>&lt;chr&gt;</th></tr>\n",
              "</thead>\n",
              "<tbody>\n",
              "\t<tr><th scope=row>1</th><td>106060601</td><td>未絕育</td><td>    </td><td>米克斯</td><td>成年</td><td></td><td>臺北市動物之家 收容編號106060601</td><td>雄</td><td>左剪耳 輕微脫水 精神食慾不佳                                                           </td><td>02-87913063</td><td>民眾不擬續養</td><td>http://163.29.39.183/uploads/images/medium/c0f66294-143c-4406-8714-2e6764352b13.jpg</td><td>虎斑白</td><td>中</td><td></td><td>900073000086900</td><td>1</td><td>貓</td><td>tcapoa8@mail.taipei.gov.tw</td><td></td></tr>\n",
              "\t<tr><th scope=row>2</th><td>106060401</td><td>已絕育</td><td>    </td><td>米克斯</td><td>成年</td><td></td><td>                                </td><td>雌</td><td>                                                                                       </td><td>           </td><td>民眾不擬續養</td><td>http://163.29.39.183/uploads/images/medium/4ffa231f-3108-43c1-8ccf-b8578bdf1e1a.jpg</td><td>黃白  </td><td>中</td><td></td><td>900073000086481</td><td>2</td><td>貓</td><td>                          </td><td></td></tr>\n",
              "\t<tr><th scope=row>3</th><td>106060210</td><td>未絕育</td><td>俊俊</td><td>米克斯</td><td>成年</td><td></td><td>臺北市動物之家 收容編號106060210</td><td>雄</td><td>嗨~~我的名字叫俊俊，希望帥氣的我可以受您的青睞，快來動物之家看看我吧!\n",
              "                </td><td>02-87913062</td><td>動物管制    </td><td>http://163.29.39.183/uploads/images/medium/e68771df-747e-4544-846a-bdd6099e7f90.jpg</td><td>黃白  </td><td>中</td><td></td><td>               </td><td>3</td><td>貓</td><td>tcapoa8@mail.taipei.gov.tw</td><td></td></tr>\n",
              "\t<tr><th scope=row>4</th><td>106060207</td><td>未絕育</td><td>小莊</td><td>米克斯</td><td>成年</td><td></td><td>臺北市動物之家 收容編號106060207</td><td>雄</td><td>哈囉~我的名字叫小莊，目前我在動物之家生活，希望能快快找到，願意認養我的人來帶我回家!!\n",
              "</td><td>02-87913062</td><td>動物管制    </td><td>http://163.29.39.183/uploads/images/medium/fd75d049-5310-4016-b1f4-71d69c4a9912.jpg</td><td>黃    </td><td>中</td><td></td><td>               </td><td>4</td><td>貓</td><td>tcapoa8@mail.taipei.gov.tw</td><td></td></tr>\n",
              "\t<tr><th scope=row>5</th><td>106060203</td><td>未絕育</td><td>好橙</td><td>米克斯</td><td>成年</td><td></td><td>臺北市動物之家 收容編號106060203</td><td>雄</td><td>嗨~我的名字叫好橙，害羞的我想要一個溫暖的家，您可以給我這個機會嗎?\n",
              "                   </td><td>02-87913062</td><td>動物管制    </td><td>http://163.29.39.183/uploads/images/medium/2f750fef-b696-4595-8fbf-cc6adf8f72d5.jpg</td><td>黃    </td><td>中</td><td></td><td>               </td><td>5</td><td>貓</td><td>tcapoa8@mail.taipei.gov.tw</td><td></td></tr>\n",
              "\t<tr><th scope=row>6</th><td>106053107</td><td>未絕育</td><td>歐雅</td><td>米克斯</td><td>年輕</td><td></td><td>臺北市動物之家 收容編號106053107</td><td>雌</td><td>大家好~我的名字叫歐雅，我的個性緊張，想帶我回家，要有耐心陪伴我渡過適應期唷!           </td><td>02-87913062</td><td>動物管制    </td><td>http://163.29.39.183/uploads/images/medium/1c293e5e-99db-466e-a156-ff33fef368b4.jpg</td><td>黑    </td><td>中</td><td></td><td>               </td><td>6</td><td>貓</td><td>tcapoa8@mail.taipei.gov.tw</td><td></td></tr>\n",
              "</tbody>\n",
              "</table>\n"
            ]
          },
          "metadata": {
            "tags": []
          }
        }
      ]
    },
    {
      "cell_type": "code",
      "metadata": {
        "id": "6Kt5VkPjivYL",
        "outputId": "c71ec1e3-088b-4d5c-c38d-dcb9313469b0",
        "colab": {
          "base_uri": "https://localhost:8080/",
          "height": 68
        }
      },
      "source": [
        "table(PetData$result$results$Reason)"
      ],
      "execution_count": 8,
      "outputs": [
        {
          "output_type": "display_data",
          "data": {
            "text/plain": [
              "\n",
              "                 動物救援     動物管制 民眾不擬續養     民眾拾獲 \n",
              "          28          109          155           50           23 "
            ]
          },
          "metadata": {
            "tags": []
          }
        }
      ]
    },
    {
      "cell_type": "code",
      "metadata": {
        "id": "XwvqFA72ivaw",
        "outputId": "b0ae368a-d8a9-4db1-9af5-3afe1df5915d",
        "colab": {
          "base_uri": "https://localhost:8080/",
          "height": 68
        }
      },
      "source": [
        "table(PetData$result$results$Sex)"
      ],
      "execution_count": 9,
      "outputs": [
        {
          "output_type": "display_data",
          "data": {
            "text/plain": [
              "\n",
              " 雄  雌 \n",
              "190 175 "
            ]
          },
          "metadata": {
            "tags": []
          }
        }
      ]
    },
    {
      "cell_type": "code",
      "metadata": {
        "id": "sZ47WwxhivlX",
        "outputId": "800c74d0-fb79-4715-e3bd-6e9b6c506a25",
        "colab": {
          "base_uri": "https://localhost:8080/",
          "height": 68
        }
      },
      "source": [
        "table(PetData$result$results$IsSterilization)"
      ],
      "execution_count": 12,
      "outputs": [
        {
          "output_type": "display_data",
          "data": {
            "text/plain": [
              "\n",
              "已絕育 未絕育 \n",
              "   151    214 "
            ]
          },
          "metadata": {
            "tags": []
          }
        }
      ]
    },
    {
      "cell_type": "code",
      "metadata": {
        "id": "7v3I2QOti5wG",
        "outputId": "4e7b39fe-b157-482d-c1ee-19085a638426",
        "colab": {
          "base_uri": "https://localhost:8080/",
          "height": 68
        }
      },
      "source": [
        "table(PetData$result$results$Type)"
      ],
      "execution_count": 13,
      "outputs": [
        {
          "output_type": "display_data",
          "data": {
            "text/plain": [
              "\n",
              "其他   犬   貓 \n",
              "  62  187  116 "
            ]
          },
          "metadata": {
            "tags": []
          }
        }
      ]
    }
  ]
}